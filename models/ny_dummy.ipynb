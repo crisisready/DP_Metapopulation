{
 "cells": [
  {
   "cell_type": "code",
   "execution_count": 1,
   "id": "54bbe2ef",
   "metadata": {},
   "outputs": [],
   "source": [
    "#### Importing needed libraries\n",
    "import pandas as pd\n",
    "import os\n",
    "import opendp.smartnoise.core as sn\n",
    "import numpy as np\n",
    "import math\n",
    "from datetime import datetime\n",
    "import time"
   ]
  },
  {
   "cell_type": "code",
   "execution_count": 2,
   "id": "89bd74ae",
   "metadata": {},
   "outputs": [],
   "source": [
    "#### Reading the df\n",
    "df = pd.read_csv('./ny_dummy.csv')"
   ]
  },
  {
   "cell_type": "code",
   "execution_count": 3,
   "id": "19b316db",
   "metadata": {},
   "outputs": [
    {
     "data": {
      "text/html": [
       "<div>\n",
       "<style scoped>\n",
       "    .dataframe tbody tr th:only-of-type {\n",
       "        vertical-align: middle;\n",
       "    }\n",
       "\n",
       "    .dataframe tbody tr th {\n",
       "        vertical-align: top;\n",
       "    }\n",
       "\n",
       "    .dataframe thead th {\n",
       "        text-align: right;\n",
       "    }\n",
       "</style>\n",
       "<table border=\"1\" class=\"dataframe\">\n",
       "  <thead>\n",
       "    <tr style=\"text-align: right;\">\n",
       "      <th></th>\n",
       "      <th>transitions</th>\n",
       "      <th>activity_day</th>\n",
       "      <th>uuid</th>\n",
       "      <th>from_fips</th>\n",
       "      <th>to_fips</th>\n",
       "    </tr>\n",
       "  </thead>\n",
       "  <tbody>\n",
       "    <tr>\n",
       "      <th>0</th>\n",
       "      <td>32</td>\n",
       "      <td>01/04/21</td>\n",
       "      <td>c67962c2-21ba-42d1-9bcd-51d873681d04</td>\n",
       "      <td>36015</td>\n",
       "      <td>36107</td>\n",
       "    </tr>\n",
       "    <tr>\n",
       "      <th>1</th>\n",
       "      <td>61</td>\n",
       "      <td>01/04/21</td>\n",
       "      <td>fde17b46-ba00-46ad-b752-e30f907a2e38</td>\n",
       "      <td>36019</td>\n",
       "      <td>36031</td>\n",
       "    </tr>\n",
       "    <tr>\n",
       "      <th>2</th>\n",
       "      <td>476</td>\n",
       "      <td>01/04/21</td>\n",
       "      <td>3442ce64-1286-4631-94c5-b8b99814f16c</td>\n",
       "      <td>36097</td>\n",
       "      <td>36097</td>\n",
       "    </tr>\n",
       "    <tr>\n",
       "      <th>3</th>\n",
       "      <td>33</td>\n",
       "      <td>01/04/21</td>\n",
       "      <td>2dac2670-4823-4356-8ff2-de390b6d5f7e</td>\n",
       "      <td>36057</td>\n",
       "      <td>36093</td>\n",
       "    </tr>\n",
       "    <tr>\n",
       "      <th>4</th>\n",
       "      <td>126</td>\n",
       "      <td>01/04/21</td>\n",
       "      <td>e6708dab-261d-4c28-a8cf-d2fec9f68387</td>\n",
       "      <td>36083</td>\n",
       "      <td>36091</td>\n",
       "    </tr>\n",
       "  </tbody>\n",
       "</table>\n",
       "</div>"
      ],
      "text/plain": [
       "   transitions activity_day                                  uuid  from_fips  \\\n",
       "0           32     01/04/21  c67962c2-21ba-42d1-9bcd-51d873681d04      36015   \n",
       "1           61     01/04/21  fde17b46-ba00-46ad-b752-e30f907a2e38      36019   \n",
       "2          476     01/04/21  3442ce64-1286-4631-94c5-b8b99814f16c      36097   \n",
       "3           33     01/04/21  2dac2670-4823-4356-8ff2-de390b6d5f7e      36057   \n",
       "4          126     01/04/21  e6708dab-261d-4c28-a8cf-d2fec9f68387      36083   \n",
       "\n",
       "   to_fips  \n",
       "0    36107  \n",
       "1    36031  \n",
       "2    36097  \n",
       "3    36093  \n",
       "4    36091  "
      ]
     },
     "execution_count": 3,
     "metadata": {},
     "output_type": "execute_result"
    }
   ],
   "source": [
    "df.head()"
   ]
  },
  {
   "cell_type": "markdown",
   "id": "437ddfb3",
   "metadata": {},
   "source": [
    "#### Documentation for SmartNoise SQL modules - https://github.com/opendp/smartnoise-samples/tree/master/data"
   ]
  },
  {
   "cell_type": "markdown",
   "id": "ccca0d07",
   "metadata": {},
   "source": [
    "#### Documentation for metadata specification - https://github.com/opendp/smartnoise-sdk/blob/main/sdk/Metadata.md "
   ]
  },
  {
   "cell_type": "markdown",
   "id": "55417db3",
   "metadata": {},
   "source": [
    "#### Generating unique IDs -- PandasReader throws an error without specifying a primary key"
   ]
  },
  {
   "cell_type": "code",
   "execution_count": 4,
   "id": "0ed52a7f",
   "metadata": {},
   "outputs": [
    {
     "data": {
      "text/plain": [
       "count     4766.000000\n",
       "mean      1973.857113\n",
       "std       7083.665042\n",
       "min          0.000000\n",
       "25%         40.000000\n",
       "50%        103.000000\n",
       "75%        757.500000\n",
       "max      63865.000000\n",
       "Name: transitions, dtype: float64"
      ]
     },
     "execution_count": 4,
     "metadata": {},
     "output_type": "execute_result"
    }
   ],
   "source": [
    "#### Getting min-max for YAML specs\n",
    "\n",
    "df['transitions'].describe()"
   ]
  },
  {
   "cell_type": "markdown",
   "id": "b2f0d6c8",
   "metadata": {},
   "source": [
    "PandasReader"
   ]
  },
  {
   "cell_type": "code",
   "execution_count": 11,
   "id": "9a3ac875",
   "metadata": {},
   "outputs": [
    {
     "name": "stdout",
     "output_type": "stream",
     "text": [
      "Empty DataFrame\n",
      "Columns: [from_fips, to_fips, activity_day, avg_transitions]\n",
      "Index: []\n"
     ]
    }
   ],
   "source": [
    "#### Applying DP on aggregations \n",
    "from opendp.smartnoise.sql import PandasReader, PrivateReader\n",
    "from opendp.smartnoise.metadata import CollectionMetadata\n",
    "\n",
    "#Collecting metadata info from YAML\n",
    "meta = CollectionMetadata.from_file('./transitions.yaml')\n",
    "\n",
    "#Query to be privatized\n",
    "query = \"SELECT from_fips, to_fips, activity_day, SUM(transitions) AS avg_transitions from mobility.activity GROUP BY from_fips, to_fips, activity_day ORDER BY from_fips, to_fips, activity_day\"\n",
    "\n",
    "#Reading the DF\n",
    "reader = PandasReader(df, meta)\n",
    "\n",
    "#Passing reader to private reader\n",
    "private_reader = PrivateReader(reader, meta, 4)\n",
    "\n",
    "#Executing the query\n",
    "result_dp = private_reader.execute_df(query)\n",
    "\n",
    "#Getting results\n",
    "print(result_dp)"
   ]
  },
  {
   "cell_type": "markdown",
   "id": "eb6e6d28",
   "metadata": {},
   "source": [
    "Returns empty df with current metadata specs. Adding the following specs to metadata :       \n",
    "    <b>max_ids: 500\n",
    "    \n",
    "   sample_max_ids: True </b>\n",
    "   \n",
    "   \n",
    "renders the following output : "
   ]
  },
  {
   "cell_type": "code",
   "execution_count": 8,
   "id": "3b21394d",
   "metadata": {},
   "outputs": [
    {
     "name": "stdout",
     "output_type": "stream",
     "text": [
      "    from_fips to_fips activity_day  avg_transitions\n",
      "0       36001   36039     02/04/21    -14833.532351\n",
      "1       36001   36039     03/04/21     82675.953206\n",
      "2       36001   36065     01/04/21    -20903.720390\n",
      "3       36001   36065     02/04/21     10467.353729\n",
      "4       36001   36083     01/04/21     55719.587531\n",
      "..        ...     ...          ...              ...\n",
      "438     36123   36101     02/04/21    -37939.250894\n",
      "439     36123   36101     03/04/21     12228.624132\n",
      "440     36123   36123     01/04/21     -6814.713375\n",
      "441     36123   36123     02/04/21      -151.449129\n",
      "442     36123   36123     03/04/21    -50486.429582\n",
      "\n",
      "[443 rows x 4 columns]\n"
     ]
    }
   ],
   "source": [
    "#### Applying DP on aggregations \n",
    "from opendp.smartnoise.sql import PandasReader, PrivateReader\n",
    "from opendp.smartnoise.metadata import CollectionMetadata\n",
    "\n",
    "#Collecting metadata info from YAML\n",
    "meta = CollectionMetadata.from_file('./transitions.yaml')\n",
    "\n",
    "#Query to be privatized\n",
    "query = \"SELECT from_fips, to_fips, activity_day, AVG(transitions) AS avg_transitions from mobility.activity GROUP BY from_fips, to_fips, activity_day ORDER BY from_fips, to_fips, activity_day\"\n",
    "\n",
    "#Reading the DF\n",
    "reader = PandasReader(df, meta)\n",
    "\n",
    "#Passing reader to private reader\n",
    "private_reader = PrivateReader(reader, meta, 0.1)\n",
    "\n",
    "#Executing the query\n",
    "result_dp = private_reader.execute_df(query)\n",
    "\n",
    "#Getting results\n",
    "print(result_dp)"
   ]
  },
  {
   "cell_type": "code",
   "execution_count": 14,
   "id": "5de4dbf8",
   "metadata": {},
   "outputs": [
    {
     "data": {
      "text/html": [
       "<div>\n",
       "<style scoped>\n",
       "    .dataframe tbody tr th:only-of-type {\n",
       "        vertical-align: middle;\n",
       "    }\n",
       "\n",
       "    .dataframe tbody tr th {\n",
       "        vertical-align: top;\n",
       "    }\n",
       "\n",
       "    .dataframe thead th {\n",
       "        text-align: right;\n",
       "    }\n",
       "</style>\n",
       "<table border=\"1\" class=\"dataframe\">\n",
       "  <thead>\n",
       "    <tr style=\"text-align: right;\">\n",
       "      <th></th>\n",
       "      <th>from_fips</th>\n",
       "      <th>to_fips</th>\n",
       "      <th>activity_day</th>\n",
       "      <th>transitions</th>\n",
       "    </tr>\n",
       "  </thead>\n",
       "  <tbody>\n",
       "    <tr>\n",
       "      <th>0</th>\n",
       "      <td>36001</td>\n",
       "      <td>36001</td>\n",
       "      <td>2021-04-01</td>\n",
       "      <td>7855.333333</td>\n",
       "    </tr>\n",
       "    <tr>\n",
       "      <th>1</th>\n",
       "      <td>36001</td>\n",
       "      <td>36001</td>\n",
       "      <td>2021-04-02</td>\n",
       "      <td>7568.500000</td>\n",
       "    </tr>\n",
       "    <tr>\n",
       "      <th>2</th>\n",
       "      <td>36001</td>\n",
       "      <td>36001</td>\n",
       "      <td>2021-04-03</td>\n",
       "      <td>7088.833333</td>\n",
       "    </tr>\n",
       "    <tr>\n",
       "      <th>140</th>\n",
       "      <td>36001</td>\n",
       "      <td>36021</td>\n",
       "      <td>2021-04-01</td>\n",
       "      <td>29.000000</td>\n",
       "    </tr>\n",
       "    <tr>\n",
       "      <th>141</th>\n",
       "      <td>36001</td>\n",
       "      <td>36021</td>\n",
       "      <td>2021-04-02</td>\n",
       "      <td>36.500000</td>\n",
       "    </tr>\n",
       "    <tr>\n",
       "      <th>142</th>\n",
       "      <td>36001</td>\n",
       "      <td>36021</td>\n",
       "      <td>2021-04-03</td>\n",
       "      <td>32.500000</td>\n",
       "    </tr>\n",
       "    <tr>\n",
       "      <th>239</th>\n",
       "      <td>36001</td>\n",
       "      <td>36035</td>\n",
       "      <td>2021-04-02</td>\n",
       "      <td>20.000000</td>\n",
       "    </tr>\n",
       "    <tr>\n",
       "      <th>240</th>\n",
       "      <td>36001</td>\n",
       "      <td>36035</td>\n",
       "      <td>2021-04-03</td>\n",
       "      <td>17.000000</td>\n",
       "    </tr>\n",
       "    <tr>\n",
       "      <th>266</th>\n",
       "      <td>36001</td>\n",
       "      <td>36039</td>\n",
       "      <td>2021-04-01</td>\n",
       "      <td>63.400000</td>\n",
       "    </tr>\n",
       "    <tr>\n",
       "      <th>267</th>\n",
       "      <td>36001</td>\n",
       "      <td>36039</td>\n",
       "      <td>2021-04-02</td>\n",
       "      <td>70.000000</td>\n",
       "    </tr>\n",
       "  </tbody>\n",
       "</table>\n",
       "</div>"
      ],
      "text/plain": [
       "    from_fips to_fips activity_day  transitions\n",
       "0       36001   36001   2021-04-01  7855.333333\n",
       "1       36001   36001   2021-04-02  7568.500000\n",
       "2       36001   36001   2021-04-03  7088.833333\n",
       "140     36001   36021   2021-04-01    29.000000\n",
       "141     36001   36021   2021-04-02    36.500000\n",
       "142     36001   36021   2021-04-03    32.500000\n",
       "239     36001   36035   2021-04-02    20.000000\n",
       "240     36001   36035   2021-04-03    17.000000\n",
       "266     36001   36039   2021-04-01    63.400000\n",
       "267     36001   36039   2021-04-02    70.000000"
      ]
     },
     "execution_count": 14,
     "metadata": {},
     "output_type": "execute_result"
    }
   ],
   "source": [
    "#Original Values\n",
    "gdf = df.groupby(['from_fips','to_fips','activity_day'])['transitions'].mean().reset_index()\n",
    "gdf = gdf.dropna()\n",
    "gdf.head(10)"
   ]
  },
  {
   "cell_type": "markdown",
   "id": "af170d03",
   "metadata": {},
   "source": [
    "Spark Implementation"
   ]
  },
  {
   "cell_type": "code",
   "execution_count": 21,
   "id": "e019867a",
   "metadata": {},
   "outputs": [],
   "source": [
    "import findspark"
   ]
  },
  {
   "cell_type": "code",
   "execution_count": 22,
   "id": "5a482e92",
   "metadata": {},
   "outputs": [],
   "source": [
    "findspark.init()"
   ]
  },
  {
   "cell_type": "code",
   "execution_count": 23,
   "id": "07c1972f",
   "metadata": {},
   "outputs": [],
   "source": [
    "#### Importing spark libraries\n",
    "import pyspark\n",
    "import numpy as np\n",
    "from pyspark.sql import SparkSession\n",
    "from pyspark.sql.functions import *\n",
    "spark = SparkSession.builder.getOrCreate()"
   ]
  },
  {
   "cell_type": "code",
   "execution_count": 25,
   "id": "0288ed60",
   "metadata": {},
   "outputs": [
    {
     "name": "stdout",
     "output_type": "stream",
     "text": [
      "+-----------+------------+--------------------+---------+-------+\n",
      "|transitions|activity_day|                uuid|from_fips|to_fips|\n",
      "+-----------+------------+--------------------+---------+-------+\n",
      "|       32.0|    01/04/21|c67962c2-21ba-42d...|    36015|  36107|\n",
      "|       61.0|    01/04/21|fde17b46-ba00-46a...|    36019|  36031|\n",
      "|      476.0|    01/04/21|3442ce64-1286-463...|    36097|  36097|\n",
      "|       33.0|    01/04/21|2dac2670-4823-435...|    36057|  36093|\n",
      "|      126.0|    01/04/21|e6708dab-261d-4c2...|    36083|  36091|\n",
      "+-----------+------------+--------------------+---------+-------+\n",
      "only showing top 5 rows\n",
      "\n",
      "There are 4766 individuals in the data\n"
     ]
    }
   ],
   "source": [
    "#### Reading df with spark\n",
    "\n",
    "from pyspark.sql.types import FloatType, BooleanType\n",
    "\n",
    "filepath = \"./ny_dummy.csv\"\n",
    "\n",
    "transition = spark.read.load(filepath, format=\"csv\", sep=\",\",inferSchema=\"true\", header=\"true\")\n",
    "\n",
    "transition = transition.withColumn(\"from_fips\", col(\"from_fips\").cast(StringType()))\n",
    "transition = transition.withColumn(\"to_fips\", col(\"to_fips\").cast(StringType()))\n",
    "transition = transition.withColumn(\"uuid\", col(\"uuid\").cast(StringType()))\n",
    "transition = transition.withColumn(\"transitions\", col(\"transitions\").cast(FloatType()))\n",
    "transition = transition.withColumn(\"activity_day\", col(\"activity_day\").cast(StringType()))\n",
    "transition.show(5)\n",
    "print(\"There are {0} individuals in the data\".format(transition.count()))"
   ]
  },
  {
   "cell_type": "code",
   "execution_count": 26,
   "id": "fe2f5a7b",
   "metadata": {},
   "outputs": [
    {
     "name": "stdout",
     "output_type": "stream",
     "text": [
      "+--------+\n",
      "|count(1)|\n",
      "+--------+\n",
      "|    4766|\n",
      "+--------+\n",
      "\n"
     ]
    }
   ],
   "source": [
    "#### Running exact queries\n",
    "\n",
    "from opendp.smartnoise.sql import SparkReader\n",
    "\n",
    "transition.createOrReplaceTempView(\"transitions\")\n",
    "\n",
    "reader = SparkReader(spark)\n",
    "query = 'SELECT COUNT(*) FROM transitions'\n",
    "\n",
    "\n",
    "res = reader.execute_typed(query)\n",
    "res.show()"
   ]
  },
  {
   "cell_type": "code",
   "execution_count": 31,
   "id": "69691197",
   "metadata": {},
   "outputs": [
    {
     "name": "stdout",
     "output_type": "stream",
     "text": [
      "+---------+-------+------------------+------------+\n",
      "|from_fips|to_fips|       transitions|activity_day|\n",
      "+---------+-------+------------------+------------+\n",
      "|    36121|  36029|              47.8|    01/04/21|\n",
      "|    36083|  36115|              13.0|    01/04/21|\n",
      "|    36031|  36031|             840.5|    02/04/21|\n",
      "|    36051|  36003|              17.0|    02/04/21|\n",
      "|    36011|  36011|1919.8333333333333|    03/04/21|\n",
      "+---------+-------+------------------+------------+\n",
      "only showing top 5 rows\n",
      "\n",
      "1175 distinct dimensions\n"
     ]
    }
   ],
   "source": [
    "#### Testing exact queries\n",
    "\n",
    "query = 'SELECT from_fips,to_fips, AVG(transitions) AS transitions, activity_day FROM transitions GROUP BY from_fips,to_fips, activity_day'\n",
    "synopsis = reader.execute(query)\n",
    "synopsis.show(5)\n",
    "print(\"{0} distinct dimensions\".format(synopsis.count()))"
   ]
  },
  {
   "cell_type": "code",
   "execution_count": 29,
   "id": "5304400c",
   "metadata": {},
   "outputs": [
    {
     "name": "stdout",
     "output_type": "stream",
     "text": [
      "+----------------+\n",
      "|max(transitions)|\n",
      "+----------------+\n",
      "|         63865.0|\n",
      "+----------------+\n",
      "\n"
     ]
    }
   ],
   "source": [
    "#### Max of column needed for YAML specs\n",
    "\n",
    "query = 'SELECT MAX(transitions) FROM transitions'\n",
    "res = reader.execute_typed(query)\n",
    "res.show()"
   ]
  },
  {
   "cell_type": "code",
   "execution_count": 32,
   "id": "15861b8b",
   "metadata": {},
   "outputs": [
    {
     "ename": "IndexError",
     "evalue": "list index out of range",
     "output_type": "error",
     "traceback": [
      "\u001b[0;31m---------------------------------------------------------------------------\u001b[0m",
      "\u001b[0;31mIndexError\u001b[0m                                Traceback (most recent call last)",
      "\u001b[0;32m<ipython-input-32-6cfd4ade4452>\u001b[0m in \u001b[0;36m<module>\u001b[0;34m\u001b[0m\n\u001b[1;32m     15\u001b[0m \u001b[0;31m#private.options.censor_dims = False\u001b[0m\u001b[0;34m\u001b[0m\u001b[0;34m\u001b[0m\u001b[0;34m\u001b[0m\u001b[0m\n\u001b[1;32m     16\u001b[0m \u001b[0;34m\u001b[0m\u001b[0m\n\u001b[0;32m---> 17\u001b[0;31m \u001b[0mprivate_synopsis\u001b[0m \u001b[0;34m=\u001b[0m \u001b[0mprivate\u001b[0m\u001b[0;34m.\u001b[0m\u001b[0mexecute\u001b[0m\u001b[0;34m(\u001b[0m\u001b[0mquery\u001b[0m\u001b[0;34m)\u001b[0m \u001b[0;31m# using same query from before\u001b[0m\u001b[0;34m\u001b[0m\u001b[0;34m\u001b[0m\u001b[0m\n\u001b[0m\u001b[1;32m     18\u001b[0m \u001b[0;34m\u001b[0m\u001b[0m\n\u001b[1;32m     19\u001b[0m \u001b[0mprivate_synopsis\u001b[0m\u001b[0;34m.\u001b[0m\u001b[0mshow\u001b[0m\u001b[0;34m(\u001b[0m\u001b[0;36m5\u001b[0m\u001b[0;34m)\u001b[0m\u001b[0;34m\u001b[0m\u001b[0;34m\u001b[0m\u001b[0m\n",
      "\u001b[0;32m/Library/Frameworks/Python.framework/Versions/3.8/lib/python3.8/site-packages/opendp/smartnoise/sql/private_reader.py\u001b[0m in \u001b[0;36mexecute\u001b[0;34m(self, query_string)\u001b[0m\n\u001b[1;32m    175\u001b[0m         \"\"\"\n\u001b[1;32m    176\u001b[0m         \u001b[0mquery\u001b[0m \u001b[0;34m=\u001b[0m \u001b[0mself\u001b[0m\u001b[0;34m.\u001b[0m\u001b[0mparse_query_string\u001b[0m\u001b[0;34m(\u001b[0m\u001b[0mquery_string\u001b[0m\u001b[0;34m)\u001b[0m\u001b[0;34m\u001b[0m\u001b[0;34m\u001b[0m\u001b[0m\n\u001b[0;32m--> 177\u001b[0;31m         \u001b[0;32mreturn\u001b[0m \u001b[0mself\u001b[0m\u001b[0;34m.\u001b[0m\u001b[0m_execute_ast\u001b[0m\u001b[0;34m(\u001b[0m\u001b[0mquery\u001b[0m\u001b[0;34m)\u001b[0m\u001b[0;34m\u001b[0m\u001b[0;34m\u001b[0m\u001b[0m\n\u001b[0m\u001b[1;32m    178\u001b[0m \u001b[0;34m\u001b[0m\u001b[0m\n\u001b[1;32m    179\u001b[0m     \u001b[0;32mdef\u001b[0m \u001b[0m_execute_ast\u001b[0m\u001b[0;34m(\u001b[0m\u001b[0mself\u001b[0m\u001b[0;34m,\u001b[0m \u001b[0mquery\u001b[0m\u001b[0;34m,\u001b[0m \u001b[0mcache_exact\u001b[0m\u001b[0;34m=\u001b[0m\u001b[0;32mFalse\u001b[0m\u001b[0;34m)\u001b[0m\u001b[0;34m:\u001b[0m\u001b[0;34m\u001b[0m\u001b[0;34m\u001b[0m\u001b[0m\n",
      "\u001b[0;32m/Library/Frameworks/Python.framework/Versions/3.8/lib/python3.8/site-packages/opendp/smartnoise/sql/private_reader.py\u001b[0m in \u001b[0;36m_execute_ast\u001b[0;34m(self, query, cache_exact)\u001b[0m\n\u001b[1;32m    181\u001b[0m             \u001b[0;32mraise\u001b[0m \u001b[0mValueError\u001b[0m\u001b[0;34m(\u001b[0m\u001b[0;34m\"Please pass AST to _execute_ast.\"\u001b[0m\u001b[0;34m)\u001b[0m\u001b[0;34m\u001b[0m\u001b[0;34m\u001b[0m\u001b[0m\n\u001b[1;32m    182\u001b[0m \u001b[0;34m\u001b[0m\u001b[0m\n\u001b[0;32m--> 183\u001b[0;31m         \u001b[0msubquery\u001b[0m\u001b[0;34m,\u001b[0m \u001b[0mquery\u001b[0m \u001b[0;34m=\u001b[0m \u001b[0mself\u001b[0m\u001b[0;34m.\u001b[0m\u001b[0mrewrite_ast\u001b[0m\u001b[0;34m(\u001b[0m\u001b[0mquery\u001b[0m\u001b[0;34m)\u001b[0m\u001b[0;34m\u001b[0m\u001b[0;34m\u001b[0m\u001b[0m\n\u001b[0m\u001b[1;32m    184\u001b[0m         \u001b[0mmax_contrib\u001b[0m \u001b[0;34m=\u001b[0m \u001b[0mself\u001b[0m\u001b[0;34m.\u001b[0m\u001b[0m_options\u001b[0m\u001b[0;34m.\u001b[0m\u001b[0mmax_contrib\u001b[0m \u001b[0;32mif\u001b[0m \u001b[0mself\u001b[0m\u001b[0;34m.\u001b[0m\u001b[0m_options\u001b[0m\u001b[0;34m.\u001b[0m\u001b[0mmax_contrib\u001b[0m \u001b[0;32mis\u001b[0m \u001b[0;32mnot\u001b[0m \u001b[0;32mNone\u001b[0m \u001b[0;32melse\u001b[0m \u001b[0;36m1\u001b[0m\u001b[0;34m\u001b[0m\u001b[0;34m\u001b[0m\u001b[0m\n\u001b[1;32m    185\u001b[0m         thresh_scale = math.sqrt(max_contrib) * (\n",
      "\u001b[0;32m/Library/Frameworks/Python.framework/Versions/3.8/lib/python3.8/site-packages/opendp/smartnoise/sql/private_reader.py\u001b[0m in \u001b[0;36mrewrite_ast\u001b[0;34m(self, query)\u001b[0m\n\u001b[1;32m    141\u001b[0m \u001b[0;34m\u001b[0m\u001b[0m\n\u001b[1;32m    142\u001b[0m         \u001b[0mself\u001b[0m\u001b[0;34m.\u001b[0m\u001b[0mrefresh_options\u001b[0m\u001b[0;34m(\u001b[0m\u001b[0;34m)\u001b[0m\u001b[0;34m\u001b[0m\u001b[0;34m\u001b[0m\u001b[0m\n\u001b[0;32m--> 143\u001b[0;31m         \u001b[0mquery\u001b[0m \u001b[0;34m=\u001b[0m \u001b[0mself\u001b[0m\u001b[0;34m.\u001b[0m\u001b[0mrewriter\u001b[0m\u001b[0;34m.\u001b[0m\u001b[0mquery\u001b[0m\u001b[0;34m(\u001b[0m\u001b[0mquery\u001b[0m\u001b[0;34m)\u001b[0m\u001b[0;34m\u001b[0m\u001b[0;34m\u001b[0m\u001b[0m\n\u001b[0m\u001b[1;32m    144\u001b[0m         \u001b[0msubquery\u001b[0m \u001b[0;34m=\u001b[0m \u001b[0mquery\u001b[0m\u001b[0;34m.\u001b[0m\u001b[0msource\u001b[0m\u001b[0;34m.\u001b[0m\u001b[0mrelations\u001b[0m\u001b[0;34m[\u001b[0m\u001b[0;36m0\u001b[0m\u001b[0;34m]\u001b[0m\u001b[0;34m.\u001b[0m\u001b[0mprimary\u001b[0m\u001b[0;34m.\u001b[0m\u001b[0mquery\u001b[0m\u001b[0;34m\u001b[0m\u001b[0;34m\u001b[0m\u001b[0m\n\u001b[1;32m    145\u001b[0m         \u001b[0;32mreturn\u001b[0m \u001b[0;34m(\u001b[0m\u001b[0msubquery\u001b[0m\u001b[0;34m,\u001b[0m \u001b[0mquery\u001b[0m\u001b[0;34m)\u001b[0m\u001b[0;34m\u001b[0m\u001b[0;34m\u001b[0m\u001b[0m\n",
      "\u001b[0;32m/Library/Frameworks/Python.framework/Versions/3.8/lib/python3.8/site-packages/opendp/smartnoise/sql/private_rewriter.py\u001b[0m in \u001b[0;36mquery\u001b[0;34m(self, query)\u001b[0m\n\u001b[1;32m    137\u001b[0m     \u001b[0;32mdef\u001b[0m \u001b[0mquery\u001b[0m\u001b[0;34m(\u001b[0m\u001b[0mself\u001b[0m\u001b[0;34m,\u001b[0m \u001b[0mquery\u001b[0m\u001b[0;34m)\u001b[0m\u001b[0;34m:\u001b[0m\u001b[0;34m\u001b[0m\u001b[0;34m\u001b[0m\u001b[0m\n\u001b[1;32m    138\u001b[0m         \u001b[0mquery\u001b[0m \u001b[0;34m=\u001b[0m \u001b[0mQueryParser\u001b[0m\u001b[0;34m(\u001b[0m\u001b[0mself\u001b[0m\u001b[0;34m.\u001b[0m\u001b[0mmetadata\u001b[0m\u001b[0;34m)\u001b[0m\u001b[0;34m.\u001b[0m\u001b[0mquery\u001b[0m\u001b[0;34m(\u001b[0m\u001b[0mstr\u001b[0m\u001b[0;34m(\u001b[0m\u001b[0mquery\u001b[0m\u001b[0;34m)\u001b[0m\u001b[0;34m)\u001b[0m\u001b[0;34m\u001b[0m\u001b[0;34m\u001b[0m\u001b[0m\n\u001b[0;32m--> 139\u001b[0;31m         \u001b[0mValidate\u001b[0m\u001b[0;34m(\u001b[0m\u001b[0;34m)\u001b[0m\u001b[0;34m.\u001b[0m\u001b[0mvalidateQuery\u001b[0m\u001b[0;34m(\u001b[0m\u001b[0mquery\u001b[0m\u001b[0;34m,\u001b[0m \u001b[0mself\u001b[0m\u001b[0;34m.\u001b[0m\u001b[0mmetadata\u001b[0m\u001b[0;34m)\u001b[0m\u001b[0;34m\u001b[0m\u001b[0;34m\u001b[0m\u001b[0m\n\u001b[0m\u001b[1;32m    140\u001b[0m \u001b[0;34m\u001b[0m\u001b[0m\n\u001b[1;32m    141\u001b[0m         \u001b[0mchild_scope\u001b[0m \u001b[0;34m=\u001b[0m \u001b[0mScope\u001b[0m\u001b[0;34m(\u001b[0m\u001b[0;34m)\u001b[0m\u001b[0;34m\u001b[0m\u001b[0;34m\u001b[0m\u001b[0m\n",
      "\u001b[0;32m/Library/Frameworks/Python.framework/Versions/3.8/lib/python3.8/site-packages/opendp/smartnoise/_ast/validate.py\u001b[0m in \u001b[0;36mvalidateQuery\u001b[0;34m(self, query, metadata)\u001b[0m\n\u001b[1;32m     18\u001b[0m         \"\"\"\n\u001b[1;32m     19\u001b[0m         \u001b[0mqc\u001b[0m \u001b[0;34m=\u001b[0m \u001b[0mQueryConstraints\u001b[0m\u001b[0;34m(\u001b[0m\u001b[0mquery\u001b[0m\u001b[0;34m,\u001b[0m \u001b[0mmetadata\u001b[0m\u001b[0;34m)\u001b[0m\u001b[0;34m\u001b[0m\u001b[0;34m\u001b[0m\u001b[0m\n\u001b[0;32m---> 20\u001b[0;31m         \u001b[0mqc\u001b[0m\u001b[0;34m.\u001b[0m\u001b[0mvalidate_all\u001b[0m\u001b[0;34m(\u001b[0m\u001b[0;34m)\u001b[0m\u001b[0;34m\u001b[0m\u001b[0;34m\u001b[0m\u001b[0m\n\u001b[0m\u001b[1;32m     21\u001b[0m \u001b[0;34m\u001b[0m\u001b[0m\n\u001b[1;32m     22\u001b[0m \u001b[0;34m\u001b[0m\u001b[0m\n",
      "\u001b[0;32m/Library/Frameworks/Python.framework/Versions/3.8/lib/python3.8/site-packages/opendp/smartnoise/_ast/validate.py\u001b[0m in \u001b[0;36mvalidate_all\u001b[0;34m(self)\u001b[0m\n\u001b[1;32m     35\u001b[0m     \u001b[0;32mdef\u001b[0m \u001b[0mvalidate_all\u001b[0m\u001b[0;34m(\u001b[0m\u001b[0mself\u001b[0m\u001b[0;34m)\u001b[0m\u001b[0;34m:\u001b[0m\u001b[0;34m\u001b[0m\u001b[0;34m\u001b[0m\u001b[0m\n\u001b[1;32m     36\u001b[0m         \u001b[0;31m# will throw if more or less than one key\u001b[0m\u001b[0;34m\u001b[0m\u001b[0;34m\u001b[0m\u001b[0;34m\u001b[0m\u001b[0m\n\u001b[0;32m---> 37\u001b[0;31m         \u001b[0mself\u001b[0m\u001b[0;34m.\u001b[0m\u001b[0mkeycol\u001b[0m \u001b[0;34m=\u001b[0m \u001b[0mself\u001b[0m\u001b[0;34m.\u001b[0m\u001b[0mkey_col\u001b[0m\u001b[0;34m(\u001b[0m\u001b[0mself\u001b[0m\u001b[0;34m.\u001b[0m\u001b[0mquery\u001b[0m\u001b[0;34m)\u001b[0m\u001b[0;34m\u001b[0m\u001b[0;34m\u001b[0m\u001b[0m\n\u001b[0m\u001b[1;32m     38\u001b[0m \u001b[0;34m\u001b[0m\u001b[0m\n\u001b[1;32m     39\u001b[0m         checks = [\n",
      "\u001b[0;32m/Library/Frameworks/Python.framework/Versions/3.8/lib/python3.8/site-packages/opendp/smartnoise/_ast/validate.py\u001b[0m in \u001b[0;36mkey_col\u001b[0;34m(self, query)\u001b[0m\n\u001b[1;32m    156\u001b[0m                 \u001b[0;32mreturn\u001b[0m \u001b[0;32mNone\u001b[0m\u001b[0;34m\u001b[0m\u001b[0;34m\u001b[0m\u001b[0m\n\u001b[1;32m    157\u001b[0m         \u001b[0;32melse\u001b[0m\u001b[0;34m:\u001b[0m\u001b[0;34m\u001b[0m\u001b[0;34m\u001b[0m\u001b[0m\n\u001b[0;32m--> 158\u001b[0;31m             \u001b[0mkp\u001b[0m \u001b[0;34m=\u001b[0m \u001b[0mkeys\u001b[0m\u001b[0;34m[\u001b[0m\u001b[0;36m0\u001b[0m\u001b[0;34m]\u001b[0m\u001b[0;34m.\u001b[0m\u001b[0msplit\u001b[0m\u001b[0;34m(\u001b[0m\u001b[0;34m\".\"\u001b[0m\u001b[0;34m)\u001b[0m\u001b[0;34m\u001b[0m\u001b[0;34m\u001b[0m\u001b[0m\n\u001b[0m\u001b[1;32m    159\u001b[0m             \u001b[0;32mreturn\u001b[0m \u001b[0mkp\u001b[0m\u001b[0;34m[\u001b[0m\u001b[0mlen\u001b[0m\u001b[0;34m(\u001b[0m\u001b[0mkp\u001b[0m\u001b[0;34m)\u001b[0m \u001b[0;34m-\u001b[0m \u001b[0;36m1\u001b[0m\u001b[0;34m]\u001b[0m\u001b[0;34m\u001b[0m\u001b[0;34m\u001b[0m\u001b[0m\n",
      "\u001b[0;31mIndexError\u001b[0m: list index out of range"
     ]
    }
   ],
   "source": [
    "#### Running the DP query\n",
    "\n",
    "from opendp.smartnoise.sql import PrivateReader\n",
    "from opendp.smartnoise.metadata import CollectionMetadata\n",
    "\n",
    "meta = CollectionMetadata.from_file('./mobility_ny.yaml')\n",
    "\n",
    "epsilon = 4.0\n",
    "\n",
    "private = PrivateReader(reader, meta, 0.1)\n",
    "\n",
    "private.reader.compare.search_path = [\"mobility\"]\n",
    "#private.options.row_privacy = True\n",
    "#private.options.clamp_counts = False\n",
    "#private.options.censor_dims = False\n",
    "\n",
    "private_synopsis = private.execute(query) # using same query from before\n",
    "\n",
    "private_synopsis.show(5)\n",
    "print(\"{0} distinct dimensions\".format(private_synopsis.count()))"
   ]
  },
  {
   "cell_type": "code",
   "execution_count": null,
   "id": "412b8b61",
   "metadata": {},
   "outputs": [],
   "source": []
  }
 ],
 "metadata": {
  "kernelspec": {
   "display_name": "Python 3",
   "language": "python",
   "name": "python3"
  },
  "language_info": {
   "codemirror_mode": {
    "name": "ipython",
    "version": 3
   },
   "file_extension": ".py",
   "mimetype": "text/x-python",
   "name": "python",
   "nbconvert_exporter": "python",
   "pygments_lexer": "ipython3",
   "version": "3.8.1"
  }
 },
 "nbformat": 4,
 "nbformat_minor": 5
}
